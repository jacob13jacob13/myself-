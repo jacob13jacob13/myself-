{
 "cells": [
  {
   "cell_type": "code",
   "execution_count": 32,
   "metadata": {},
   "outputs": [],
   "source": [
    "def Quick_Sort(a):\n",
    "    Smaller=[]\n",
    "    Equal=[]\n",
    "    Bigger=[]\n",
    "     \n",
    "    if len(a)<1:\n",
    "        return a\n",
    "    \n",
    "    else:\n",
    "        pivot=a[0] \n",
    "   \n",
    "        \n",
    "        for i in a:\n",
    "            if i<pivot:\n",
    "                Smaller.append(i)\n",
    "            elif i==pivot:\n",
    "                Equal.append(i)\n",
    "            else:\n",
    "                Bigger.append(i)\n",
    "   \n",
    "    S=Quick_Sort(Smaller)\n",
    "    B=Quick_Sort(Bigger)\n",
    "    E=Equal\n",
    "        \n",
    "    return S+E+B"
   ]
  },
  {
   "cell_type": "code",
   "execution_count": 33,
   "metadata": {},
   "outputs": [],
   "source": [
    "a=[1,34,547,234,567,12,58,45]"
   ]
  },
  {
   "cell_type": "code",
   "execution_count": 34,
   "metadata": {},
   "outputs": [
    {
     "data": {
      "text/plain": [
       "[1, 12, 34, 45, 58, 234, 547, 567]"
      ]
     },
     "execution_count": 34,
     "metadata": {},
     "output_type": "execute_result"
    }
   ],
   "source": [
    "Quick_Sort(a)"
   ]
  },
  {
   "cell_type": "code",
   "execution_count": null,
   "metadata": {},
   "outputs": [],
   "source": []
  }
 ],
 "metadata": {
  "kernelspec": {
   "display_name": "Python 3",
   "language": "python",
   "name": "python3"
  },
  "language_info": {
   "codemirror_mode": {
    "name": "ipython",
    "version": 3
   },
   "file_extension": ".py",
   "mimetype": "text/x-python",
   "name": "python",
   "nbconvert_exporter": "python",
   "pygments_lexer": "ipython3",
   "version": "3.7.1"
  }
 },
 "nbformat": 4,
 "nbformat_minor": 2
}
